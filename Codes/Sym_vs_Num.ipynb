{
 "cells": [
  {
   "cell_type": "code",
   "execution_count": 1,
   "id": "3a4bb123-2c77-450c-9df4-b2e2b6f476b8",
   "metadata": {},
   "outputs": [],
   "source": [
    "\n",
    "import numpy as np\n",
    "import sympy as sp\n"
   ]
  },
  {
   "cell_type": "code",
   "execution_count": 3,
   "id": "3d1684b2-c1a7-40ec-b593-e56fcba5c112",
   "metadata": {},
   "outputs": [],
   "source": [
    "\n",
    "def Pdsym(phi,theta): #goes from local to global\n",
    "    return np.array([\n",
    "        [(sp.cos(theta)*sp.cos(phi)).evalf(), (-sp.cos(theta)*sp.sin(phi)).evalf(), (sp.sin(theta)).evalf()],\n",
    "        [sp.sin(phi).evalf(), sp.cos(phi).evalf(), 0],\n",
    "        [(-sp.sin(theta)*sp.cos(phi)).evalf(), (sp.sin(theta)*sp.sin(phi)).evalf(), sp.cos(theta).evalf()]\n",
    "    ])\n"
   ]
  },
  {
   "cell_type": "code",
   "execution_count": 4,
   "id": "baf7848f-567d-4eea-9362-e2a58e2f90f6",
   "metadata": {},
   "outputs": [],
   "source": [
    "\n",
    "def Pdnum(phi,theta): #goes from local to global\n",
    "    return np.array([\n",
    "        [np.cos(theta)*np.cos(phi), np.cos(theta)*np.sin(phi), -np.sin(theta)],\n",
    "        [-np.sin(phi), np.cos(phi), 0],\n",
    "        [np.sin(theta)*np.cos(phi), np.sin(theta)*np.sin(phi), np.cos(theta)]\n",
    "    ])\n"
   ]
  },
  {
   "cell_type": "code",
   "execution_count": 5,
   "id": "b7aa39b8-bfa8-4aac-8d64-1f7c99fc9f4c",
   "metadata": {},
   "outputs": [
    {
     "name": "stdout",
     "output_type": "stream",
     "text": [
      "[1.000000e+02 0.000000e+00 6.123234e-15]\n",
      "[1.000000e+02 0.000000e+00 6.123234e-15]\n"
     ]
    }
   ],
   "source": [
    "\n",
    "def Pphi(phi):\n",
    "       return np.array([\n",
    "           [np.cos(phi),-np.sin(phi),0],\n",
    "           [np.sin(phi),np.cos(phi),0],\n",
    "           [0,0,1]\n",
    "       ])\n",
    "\n",
    "def Ptheta(theta):\n",
    "    return np.array([\n",
    "        [np.cos(theta),0,np.sin(theta)],\n",
    "        [0,1,0],\n",
    "        [-np.sin(theta),0,np.cos(theta)]\n",
    "    ])\n",
    "\n",
    "r = np.array([0,0,100])\n",
    "phi = 90 * np.pi/180\n",
    "theta = 90 * np.pi/180\n",
    "Pp = Pphi(phi)\n",
    "Pt = Ptheta(theta)\n",
    "\n",
    "print(Pt @ Pp @ r)\n",
    "print((Pt @ Pp) @ r)\n"
   ]
  },
  {
   "cell_type": "code",
   "execution_count": 6,
   "id": "4c30c54b-673f-4e1d-9ad4-7dec199eed77",
   "metadata": {},
   "outputs": [
    {
     "name": "stdout",
     "output_type": "stream",
     "text": [
      "[100.000000000000 0 0]\n"
     ]
    }
   ],
   "source": [
    "\n",
    "phi = sp.rad(90)\n",
    "theta = sp.rad(90)\n",
    "print(Pdsym(phi,theta) @ r)\n"
   ]
  },
  {
   "cell_type": "code",
   "execution_count": 7,
   "id": "4b326319-4113-4978-8129-8db0b369622b",
   "metadata": {},
   "outputs": [
    {
     "name": "stdout",
     "output_type": "stream",
     "text": [
      "[[0 -0.707106781186548 0.707106781186548]\n",
      " [1.00000000000000 0 0]\n",
      " [0 0.707106781186548 0.707106781186548]]\n",
      "[[ 4.32978028e-17  7.07106781e-01 -7.07106781e-01]\n",
      " [-1.00000000e+00  6.12323400e-17  0.00000000e+00]\n",
      " [ 4.32978028e-17  7.07106781e-01  7.07106781e-01]]\n",
      "[0 0 0]\n"
     ]
    }
   ],
   "source": [
    "\n",
    "phis = sp.rad(90)\n",
    "thetas = sp.rad(45)\n",
    "phin = 90 * np.pi/180\n",
    "thetan = 45 * np.pi/180\n",
    "\n",
    "Psym = Pdsym(phis,thetas)\n",
    "print(Psym)\n",
    "Pnum = Pdnum(phin,thetan)\n",
    "print(Pnum)\n",
    "\n",
    "M = np.array([0,0,1]) #in global\n",
    "H = np.array([1,1,1]) #in local\n",
    "\n",
    "one = Psym@H + M\n",
    "two = Psym@(H + Psym.T@M)\n",
    "\n",
    "print(two-one)\n"
   ]
  },
  {
   "cell_type": "code",
   "execution_count": 8,
   "id": "b70ca74e-15d1-4c3c-a0fc-8de1268d88f0",
   "metadata": {},
   "outputs": [
    {
     "name": "stdout",
     "output_type": "stream",
     "text": [
      "SymPy time: 0.6848301887512207\n",
      "NumPy time: 0.09794306755065918\n"
     ]
    }
   ],
   "source": [
    "\n",
    "import sympy as sp\n",
    "import time\n",
    "\n",
    "def cos_deg_sympy(degrees):\n",
    "    return float(sp.cos(sp.rad(degrees)).evalf())\n",
    "\n",
    "start_time = time.time()\n",
    "for _ in range(100000):\n",
    "    cos_deg_sympy(90)\n",
    "end_time = time.time()\n",
    "\n",
    "print(\"SymPy time:\", end_time - start_time)\n",
    "\n",
    "\n",
    "import numpy as np\n",
    "\n",
    "def cos_deg_numpy(degrees):\n",
    "    return np.cos(np.deg2rad(degrees))\n",
    "\n",
    "start_time = time.time()\n",
    "for _ in range(100000):\n",
    "    cos_deg_numpy(90)\n",
    "end_time = time.time()\n",
    "\n",
    "print(\"NumPy time:\", end_time - start_time)\n",
    "\n"
   ]
  }
 ],
 "metadata": {
  "kernelspec": {
   "display_name": "simsEnv",
   "language": "python",
   "name": "simsenv"
  },
  "language_info": {
   "codemirror_mode": {
    "name": "ipython",
    "version": 3
   },
   "file_extension": ".py",
   "mimetype": "text/x-python",
   "name": "python",
   "nbconvert_exporter": "python",
   "pygments_lexer": "ipython3",
   "version": "3.9.18"
  }
 },
 "nbformat": 4,
 "nbformat_minor": 5
}
